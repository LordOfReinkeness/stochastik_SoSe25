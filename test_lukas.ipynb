{
 "cells": [
  {
   "metadata": {
    "ExecuteTime": {
     "end_time": "2025-04-16T07:49:16.439888Z",
     "start_time": "2025-04-16T07:49:16.293978Z"
    }
   },
   "cell_type": "code",
   "source": [
    "import numpy as np\n",
    "import requests\n",
    "import os"
   ],
   "id": "e6f68888ea5d9965",
   "outputs": [],
   "execution_count": 1
  },
  {
   "metadata": {},
   "cell_type": "markdown",
   "source": [
    "# Area for Lukas' testing\n",
    "## Download bahn-data if not present and load dataset"
   ],
   "id": "b58742696fbbe522"
  },
  {
   "metadata": {
    "ExecuteTime": {
     "end_time": "2025-04-16T07:54:50.867272Z",
     "start_time": "2025-04-16T07:49:16.464145Z"
    }
   },
   "cell_type": "code",
   "source": [
    "url = 'https://cloud.reinke.rocks/s/wKSbS255XGLdenD/download'\n",
    "file_path = './data/bahn-data.csv'\n",
    "\n",
    "if not os.path.exists(file_path):\n",
    "    os.makedirs(os.path.dirname(file_path), exist_ok=True)\n",
    "    response = requests.get(url)\n",
    "    with open(file_path, 'wb') as f:\n",
    "        f.write(response.content)\n",
    "\n",
    "data = np.loadtxt(file_path, delimiter=',', skiprows=1)"
   ],
   "id": "461fdbacbc5db5c7",
   "outputs": [
    {
     "ename": "ValueError",
     "evalue": "could not convert string '1573967790757085557-2407072312-14' to float64 at row 0, column 1.",
     "output_type": "error",
     "traceback": [
      "\u001B[0;31m---------------------------------------------------------------------------\u001B[0m",
      "\u001B[0;31mValueError\u001B[0m                                Traceback (most recent call last)",
      "Cell \u001B[0;32mIn[2], line 10\u001B[0m\n\u001B[1;32m      7\u001B[0m     \u001B[38;5;28;01mwith\u001B[39;00m \u001B[38;5;28mopen\u001B[39m(file_path, \u001B[38;5;124m'\u001B[39m\u001B[38;5;124mwb\u001B[39m\u001B[38;5;124m'\u001B[39m) \u001B[38;5;28;01mas\u001B[39;00m f:\n\u001B[1;32m      8\u001B[0m         f\u001B[38;5;241m.\u001B[39mwrite(response\u001B[38;5;241m.\u001B[39mcontent)\n\u001B[0;32m---> 10\u001B[0m data \u001B[38;5;241m=\u001B[39m np\u001B[38;5;241m.\u001B[39mloadtxt(file_path, delimiter\u001B[38;5;241m=\u001B[39m\u001B[38;5;124m'\u001B[39m\u001B[38;5;124m,\u001B[39m\u001B[38;5;124m'\u001B[39m, skiprows\u001B[38;5;241m=\u001B[39m\u001B[38;5;241m1\u001B[39m)\n",
      "File \u001B[0;32m/opt/anaconda3/lib/python3.12/site-packages/numpy/lib/npyio.py:1373\u001B[0m, in \u001B[0;36mloadtxt\u001B[0;34m(fname, dtype, comments, delimiter, converters, skiprows, usecols, unpack, ndmin, encoding, max_rows, quotechar, like)\u001B[0m\n\u001B[1;32m   1370\u001B[0m \u001B[38;5;28;01mif\u001B[39;00m \u001B[38;5;28misinstance\u001B[39m(delimiter, \u001B[38;5;28mbytes\u001B[39m):\n\u001B[1;32m   1371\u001B[0m     delimiter \u001B[38;5;241m=\u001B[39m delimiter\u001B[38;5;241m.\u001B[39mdecode(\u001B[38;5;124m'\u001B[39m\u001B[38;5;124mlatin1\u001B[39m\u001B[38;5;124m'\u001B[39m)\n\u001B[0;32m-> 1373\u001B[0m arr \u001B[38;5;241m=\u001B[39m _read(fname, dtype\u001B[38;5;241m=\u001B[39mdtype, comment\u001B[38;5;241m=\u001B[39mcomment, delimiter\u001B[38;5;241m=\u001B[39mdelimiter,\n\u001B[1;32m   1374\u001B[0m             converters\u001B[38;5;241m=\u001B[39mconverters, skiplines\u001B[38;5;241m=\u001B[39mskiprows, usecols\u001B[38;5;241m=\u001B[39musecols,\n\u001B[1;32m   1375\u001B[0m             unpack\u001B[38;5;241m=\u001B[39munpack, ndmin\u001B[38;5;241m=\u001B[39mndmin, encoding\u001B[38;5;241m=\u001B[39mencoding,\n\u001B[1;32m   1376\u001B[0m             max_rows\u001B[38;5;241m=\u001B[39mmax_rows, quote\u001B[38;5;241m=\u001B[39mquotechar)\n\u001B[1;32m   1378\u001B[0m \u001B[38;5;28;01mreturn\u001B[39;00m arr\n",
      "File \u001B[0;32m/opt/anaconda3/lib/python3.12/site-packages/numpy/lib/npyio.py:1016\u001B[0m, in \u001B[0;36m_read\u001B[0;34m(fname, delimiter, comment, quote, imaginary_unit, usecols, skiplines, max_rows, converters, ndmin, unpack, dtype, encoding)\u001B[0m\n\u001B[1;32m   1013\u001B[0m     data \u001B[38;5;241m=\u001B[39m _preprocess_comments(data, comments, encoding)\n\u001B[1;32m   1015\u001B[0m \u001B[38;5;28;01mif\u001B[39;00m read_dtype_via_object_chunks \u001B[38;5;129;01mis\u001B[39;00m \u001B[38;5;28;01mNone\u001B[39;00m:\n\u001B[0;32m-> 1016\u001B[0m     arr \u001B[38;5;241m=\u001B[39m _load_from_filelike(\n\u001B[1;32m   1017\u001B[0m         data, delimiter\u001B[38;5;241m=\u001B[39mdelimiter, comment\u001B[38;5;241m=\u001B[39mcomment, quote\u001B[38;5;241m=\u001B[39mquote,\n\u001B[1;32m   1018\u001B[0m         imaginary_unit\u001B[38;5;241m=\u001B[39mimaginary_unit,\n\u001B[1;32m   1019\u001B[0m         usecols\u001B[38;5;241m=\u001B[39musecols, skiplines\u001B[38;5;241m=\u001B[39mskiplines, max_rows\u001B[38;5;241m=\u001B[39mmax_rows,\n\u001B[1;32m   1020\u001B[0m         converters\u001B[38;5;241m=\u001B[39mconverters, dtype\u001B[38;5;241m=\u001B[39mdtype,\n\u001B[1;32m   1021\u001B[0m         encoding\u001B[38;5;241m=\u001B[39mencoding, filelike\u001B[38;5;241m=\u001B[39mfilelike,\n\u001B[1;32m   1022\u001B[0m         byte_converters\u001B[38;5;241m=\u001B[39mbyte_converters)\n\u001B[1;32m   1024\u001B[0m \u001B[38;5;28;01melse\u001B[39;00m:\n\u001B[1;32m   1025\u001B[0m     \u001B[38;5;66;03m# This branch reads the file into chunks of object arrays and then\u001B[39;00m\n\u001B[1;32m   1026\u001B[0m     \u001B[38;5;66;03m# casts them to the desired actual dtype.  This ensures correct\u001B[39;00m\n\u001B[1;32m   1027\u001B[0m     \u001B[38;5;66;03m# string-length and datetime-unit discovery (like `arr.astype()`).\u001B[39;00m\n\u001B[1;32m   1028\u001B[0m     \u001B[38;5;66;03m# Due to chunking, certain error reports are less clear, currently.\u001B[39;00m\n\u001B[1;32m   1029\u001B[0m     \u001B[38;5;28;01mif\u001B[39;00m filelike:\n",
      "\u001B[0;31mValueError\u001B[0m: could not convert string '1573967790757085557-2407072312-14' to float64 at row 0, column 1."
     ]
    }
   ],
   "execution_count": 2
  },
  {
   "metadata": {},
   "cell_type": "markdown",
   "source": "",
   "id": "4c2ecc009c7e2626"
  }
 ],
 "metadata": {
  "kernelspec": {
   "display_name": "Python 3",
   "language": "python",
   "name": "python3"
  },
  "language_info": {
   "codemirror_mode": {
    "name": "ipython",
    "version": 2
   },
   "file_extension": ".py",
   "mimetype": "text/x-python",
   "name": "python",
   "nbconvert_exporter": "python",
   "pygments_lexer": "ipython2",
   "version": "2.7.6"
  }
 },
 "nbformat": 4,
 "nbformat_minor": 5
}
